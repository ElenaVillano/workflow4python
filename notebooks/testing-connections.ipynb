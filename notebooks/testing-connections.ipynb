{
 "cells": [
  {
   "cell_type": "code",
   "execution_count": 1,
   "id": "e8975368-aada-431e-a068-544774994861",
   "metadata": {},
   "outputs": [],
   "source": [
    "import numpy as np\n",
    "import pandas as pd\n",
    "import yaml\n",
    "import seaborn as sns\n",
    "import matplotlib.pyplot as plt\n",
    "\n",
    "from src.utils.general import get_db_conn_sql_alchemy, get_s3_credentials"
   ]
  },
  {
   "cell_type": "code",
   "execution_count": 2,
   "id": "12c575ee-0d27-4caf-b0b0-8f685b4a2406",
   "metadata": {},
   "outputs": [],
   "source": [
    "path_creds = \"../config/local/credentials.yaml\""
   ]
  },
  {
   "cell_type": "code",
   "execution_count": 3,
   "id": "ab209e4c-bdc7-4d89-bf26-9d31d51639c5",
   "metadata": {},
   "outputs": [],
   "source": [
    "conn_db = get_db_conn_sql_alchemy(path_creds)"
   ]
  },
  {
   "cell_type": "code",
   "execution_count": 4,
   "id": "e15f1ea9-5836-44d0-a0d9-2a48d797efb7",
   "metadata": {},
   "outputs": [],
   "source": [
    "conn_s3 = get_s3_credentials(path_creds)"
   ]
  }
 ],
 "metadata": {
  "kernelspec": {
   "display_name": "Python 3 (ipykernel)",
   "language": "python",
   "name": "python3"
  },
  "language_info": {
   "codemirror_mode": {
    "name": "ipython",
    "version": 3
   },
   "file_extension": ".py",
   "mimetype": "text/x-python",
   "name": "python",
   "nbconvert_exporter": "python",
   "pygments_lexer": "ipython3",
   "version": "3.12.0"
  }
 },
 "nbformat": 4,
 "nbformat_minor": 5
}
